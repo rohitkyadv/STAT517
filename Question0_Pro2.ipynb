{
 "cells": [
  {
   "cell_type": "markdown",
   "metadata": {},
   "source": [
    "## Question 0: Salary Prediction"
   ]
  },
  {
   "cell_type": "code",
   "execution_count": 51,
   "metadata": {},
   "outputs": [],
   "source": [
    "import pandas as pd\n",
    "import matplotlib.pyplot as plt\n",
    "import numpy as np\n",
    "import scipy as sp\n",
    "import string\n",
    "from sklearn.model_selection import train_test_split\n",
    "from sklearn.feature_extraction.text import TfidfVectorizer\n",
    "from sklearn.decomposition import PCA\n",
    "from sklearn.linear_model import LinearRegression\n",
    "from sklearn.linear_model import Ridge\n",
    "from sklearn.neighbors import KNeighborsRegressor\n",
    "from sklearn.ensemble import GradientBoostingRegressor\n",
    "from sklearn.tree import DecisionTreeRegressor\n",
    "import time"
   ]
  },
  {
   "cell_type": "code",
   "execution_count": 52,
   "metadata": {},
   "outputs": [],
   "source": [
    "# read file\n",
    "originalsalary = pd.read_csv(\"http://www.webpages.uidaho.edu/~stevel/Datasets/salary_uk.csv\")"
   ]
  },
  {
   "cell_type": "markdown",
   "metadata": {},
   "source": [
    "## Data Preprocessing"
   ]
  },
  {
   "cell_type": "code",
   "execution_count": 53,
   "metadata": {},
   "outputs": [
    {
     "name": "stdout",
     "output_type": "stream",
     "text": [
      "(10000, 9)\n"
     ]
    }
   ],
   "source": [
    "salary = originalsalary\n",
    "# preprocessing\n",
    "\n",
    "#get rid of useless columns\n",
    "salary = salary.drop(['LocationRaw', 'SalaryRaw', 'SourceName'], axis=1)\n",
    "\n",
    "#this loop does preprocessing on columns that are strings\n",
    "for n in salary.columns:\n",
    "    if salary[n].dtype == 'object':\n",
    "        salary[n] = salary[n].str.lower()\n",
    "        salary[n] = salary[n].str.strip()\n",
    "\n",
    "#replace null values with the mode (most frequent occurence in the feature)\n",
    "salary['Title'].fillna(value=salary['Title'].value_counts().axes[0][0], inplace=True)\n",
    "salary['ContractType'].fillna(value=salary['ContractType'].value_counts().axes[0][0], inplace=True)\n",
    "salary['ContractTime'].fillna(value=salary['ContractTime'].value_counts().axes[0][0], inplace=True)\n",
    "salary['Company'].fillna(value=salary['Company'].value_counts().axes[0][0], inplace=True)\n",
    "print (salary.shape)"
   ]
  },
  {
   "cell_type": "code",
   "execution_count": 54,
   "metadata": {},
   "outputs": [
    {
     "name": "stdout",
     "output_type": "stream",
     "text": [
      "(10000, 3050)\n"
     ]
    }
   ],
   "source": [
    "#tf-idf\n",
    "#first we create vector using only 1000 words and removing useless stop words\n",
    "#we just consider words that matter to the target variable (salary)\n",
    "vector = TfidfVectorizer(stop_words='english', max_features=1000)\n",
    "titleVectorized = pd.DataFrame(vector.fit_transform(salary.Title).toarray(), columns = vector.get_feature_names())\n",
    "descriptionVectorized = pd.DataFrame(vector.fit_transform(salary.FullDescription).toarray(), columns = vector.get_feature_names())\n",
    "companyVectorized = pd.DataFrame(vector.fit_transform(salary.Company).toarray(), columns = vector.get_feature_names())\n",
    "categoryVectorized = pd.DataFrame(vector.fit_transform(salary.Category).toarray(), columns = vector.get_feature_names())\n",
    "#salary = salary.drop('FullDescription', axis=1)\n",
    "salary = pd.concat([salary.drop(['Title','FullDescription','Company','Category'], axis=1), titleVectorized,descriptionVectorized,companyVectorized,categoryVectorized], axis=1)\n",
    "print (salary.shape)"
   ]
  },
  {
   "cell_type": "code",
   "execution_count": 55,
   "metadata": {},
   "outputs": [
    {
     "name": "stdout",
     "output_type": "stream",
     "text": [
      "(10000, 3950)\n"
     ]
    }
   ],
   "source": [
    "#preprocess categorical features\n",
    "#salary = pd.get_dummies(salary, columns=['Title', 'LocationNormalized', 'ContractTime', 'ContractType', 'Company', 'Category'], prefix=['Title', 'LocationNormalized', 'ContractTime', 'ContractType', 'Company', 'Category'])\n",
    "salary = pd.get_dummies(salary, columns=['LocationNormalized', 'ContractTime', 'ContractType'], prefix=['LocationNormalized', 'ContractTime', 'ContractType'])\n",
    "print (salary.shape)"
   ]
  },
  {
   "cell_type": "markdown",
   "metadata": {},
   "source": [
    "## Training and Testing Models"
   ]
  },
  {
   "cell_type": "code",
   "execution_count": 56,
   "metadata": {},
   "outputs": [],
   "source": [
    "#split dataset into training and testing 80% 20%\n",
    "X = salary.drop('SalaryNormalized', axis=1)\n",
    "Y = salary.SalaryNormalized\n",
    "pca = PCA(n_components=1000)\n",
    "pca.fit(X)\n",
    "X = pca.transform(X)\n",
    "xTrain, xTest, yTrain, yTest = train_test_split(X, Y, random_state=int(time.time()), test_size=0.20)"
   ]
  },
  {
   "cell_type": "markdown",
   "metadata": {},
   "source": [
    "## Linear Regression"
   ]
  },
  {
   "cell_type": "code",
   "execution_count": 57,
   "metadata": {},
   "outputs": [
    {
     "name": "stdout",
     "output_type": "stream",
     "text": [
      "Training set score: 0.69\n",
      "Test set score: 0.59\n"
     ]
    }
   ],
   "source": [
    "lr = LinearRegression().fit(xTrain, yTrain)\n",
    "\n",
    "#print(\"lr.coef_:\", lr.coef_)\n",
    "#print(\"lr.intercept_:\", lr.intercept_)\n",
    "\n",
    "print(\"Training set score: {:.2f}\".format(lr.score(xTrain, yTrain)))\n",
    "print(\"Test set score: {:.2f}\".format(lr.score(xTest, yTest)))"
   ]
  },
  {
   "cell_type": "markdown",
   "metadata": {},
   "source": [
    "## Ridge Regression"
   ]
  },
  {
   "cell_type": "code",
   "execution_count": 58,
   "metadata": {},
   "outputs": [
    {
     "name": "stdout",
     "output_type": "stream",
     "text": [
      "Training set score: 0.69\n",
      "Test set score: 0.60\n"
     ]
    },
    {
     "name": "stderr",
     "output_type": "stream",
     "text": [
      "/Users/rohit1/anaconda3/lib/python3.6/site-packages/sklearn/linear_model/ridge.py:112: LinAlgWarning: scipy.linalg.solve\n",
      "Ill-conditioned matrix detected. Result is not guaranteed to be accurate.\n",
      "Reciprocal condition number3.304227e-18\n",
      "  overwrite_a=True).T\n"
     ]
    }
   ],
   "source": [
    "ridge = Ridge().fit(xTrain, yTrain)\n",
    "print(\"Training set score: {:.2f}\".format(ridge.score(xTrain, yTrain)))\n",
    "print(\"Test set score: {:.2f}\".format(ridge.score(xTest, yTest)))"
   ]
  },
  {
   "cell_type": "markdown",
   "metadata": {},
   "source": [
    "## Decision Trees"
   ]
  },
  {
   "cell_type": "code",
   "execution_count": 59,
   "metadata": {},
   "outputs": [
    {
     "name": "stdout",
     "output_type": "stream",
     "text": [
      "Tree of depth 5 Training set score: 0.39\n",
      "Tree of depth 5 Test set score: 0.27\n",
      "Tree of depth 10 Training set score: 0.70\n",
      "Tree of depth 10 Test set score: 0.17\n"
     ]
    }
   ],
   "source": [
    "tree1 = DecisionTreeRegressor(max_depth=5).fit(xTrain, yTrain)\n",
    "tree2 = DecisionTreeRegressor(max_depth=10).fit(xTrain, yTrain)\n",
    "print (\"Tree of depth 5 Training set score: {:.2f}\".format(tree1.score(xTrain, yTrain)))\n",
    "print (\"Tree of depth 5 Test set score: {:.2f}\".format(tree1.score(xTest, yTest)))\n",
    "print (\"Tree of depth 10 Training set score: {:.2f}\".format(tree2.score(xTrain, yTrain)))\n",
    "print (\"Tree of depth 10 Test set score: {:.2f}\".format(tree2.score(xTest, yTest)))\n",
    "#higher depth means overfitting to the training data and lower accuracy on the testing data"
   ]
  },
  {
   "cell_type": "markdown",
   "metadata": {},
   "source": [
    "## K-Nearest Neighbors"
   ]
  },
  {
   "cell_type": "code",
   "execution_count": 60,
   "metadata": {},
   "outputs": [
    {
     "name": "stdout",
     "output_type": "stream",
     "text": [
      "Training set score with 2 neighbors: 0.70\n",
      "Test set score with 2 neighbors: 0.03\n",
      "Training set score with 3 neighbors: 0.56\n",
      "Test set score with 3 neighbors: 0.10\n",
      "Training set score with 4 neighbors: 0.48\n",
      "Test set score with 4 neighbors: 0.11\n",
      "Training set score with 5 neighbors: 0.43\n",
      "Test set score with 5 neighbors: 0.12\n",
      "Training set score with 6 neighbors: 0.39\n",
      "Test set score with 6 neighbors: 0.13\n",
      "Training set score with 7 neighbors: 0.36\n",
      "Test set score with 7 neighbors: 0.14\n",
      "Training set score with 8 neighbors: 0.34\n",
      "Test set score with 8 neighbors: 0.14\n",
      "Training set score with 9 neighbors: 0.32\n",
      "Test set score with 9 neighbors: 0.14\n",
      "Training set score with 10 neighbors: 0.30\n",
      "Test set score with 10 neighbors: 0.15\n",
      "Training set score with 11 neighbors: 0.28\n",
      "Test set score with 11 neighbors: 0.14\n"
     ]
    }
   ],
   "source": [
    "for n in range(2,12):\n",
    "    # this loop tries number of neighbors from 2 to 11\n",
    "    knn = KNeighborsRegressor(n_neighbors=n)\n",
    "    # KNN with 6 neighbors was found to be the most accurate in general\n",
    "    knn.fit(xTrain, yTrain)\n",
    "    print (\"Training set score with \" + str(n) + \" neighbors: {:.2f}\".format(knn.score(xTrain, yTrain)))\n",
    "    print (\"Test set score with \" + str(n) + \" neighbors: {:.2f}\".format(knn.score(xTest, yTest)))"
   ]
  },
  {
   "cell_type": "markdown",
   "metadata": {},
   "source": [
    "## Gradient Boosted Regression"
   ]
  },
  {
   "cell_type": "code",
   "execution_count": 62,
   "metadata": {},
   "outputs": [
    {
     "name": "stdout",
     "output_type": "stream",
     "text": [
      "Training set score: 0.652\n",
      "Test set score: 0.506\n"
     ]
    }
   ],
   "source": [
    "gbr = GradientBoostingRegressor()\n",
    "gbr.fit(xTrain, yTrain)\n",
    "print(\"Training set score: {:.3f}\".format(gbr.score(xTrain, yTrain)))\n",
    "print(\"Test set score: {:.3f}\".format(gbr.score(xTest, yTest)))"
   ]
  },
  {
   "cell_type": "markdown",
   "metadata": {},
   "source": [
    "## Conclusions"
   ]
  },
  {
   "cell_type": "code",
   "execution_count": null,
   "metadata": {},
   "outputs": [],
   "source": []
  }
 ],
 "metadata": {
  "kernelspec": {
   "display_name": "Python 3",
   "language": "python",
   "name": "python3"
  },
  "language_info": {
   "codemirror_mode": {
    "name": "ipython",
    "version": 3
   },
   "file_extension": ".py",
   "mimetype": "text/x-python",
   "name": "python",
   "nbconvert_exporter": "python",
   "pygments_lexer": "ipython3",
   "version": "3.6.5"
  }
 },
 "nbformat": 4,
 "nbformat_minor": 2
}
